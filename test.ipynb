{
 "cells": [
  {
   "cell_type": "code",
   "execution_count": 13,
   "metadata": {},
   "outputs": [
    {
     "name": "stdout",
     "output_type": "stream",
     "text": [
      "Mohammad Zobair Hossain Fahim\n",
      "zobairf03@gmail.com\n",
      " \n",
      "01840219368\n",
      " \n",
      "Chittagong,Bangladesh\n",
      " \n",
      "Github\n",
      " \n",
      "Portfolio\n",
      " \n",
      "PROFILE\n",
      "Recent computer science graduate with a year of experience at The WOS Group GmbH in their major project\n",
      "4takeaway. Initially served as a manual tester and was promoted to Junior Software Developer. A detail-\n",
      "oriented and adaptable individual with a strong work ethic, committed to contributing technical skills and\n",
      "problem-solving abilities to dynamic software development teams. Eager to embark on a career in software\n",
      "development, combining academic excellence with practical experience and a passion for continuous\n",
      "learning.My goal is to contribute cutting-edge solutions to challenging projects in collaborative environments,\n",
      "always staying at the forefront of web development trends.\n",
      "PROFESSIONAL EXPERIENCE\n",
      "Junior Software Developer\n",
      "The WOS Group GmbH(Remote)\n",
      "•Implemented  & fixed some major component for their app and website project \n",
      "using Flutter and NextJS framework.\n",
      "05/2023 – present\n",
      "Mönchengladbach,\n",
      "Germany\n",
      "•Actively contributed in 4takeaway.com project with the developing team\n",
      "•Contributed in UI design, optimization and major bug identification in project.\n",
      "Tester\n",
      "The WOS Group GmbH(Remote)\n",
      "•Identified bugs in the existing projects.\n",
      "05/2023 – 03/2024\n",
      "Mönchengladbach,\n",
      "Germany\n",
      "•Pointed some state management issue to the development team.\n",
      "•Conducted rigorous testing procedures that significantly improved the overall \n",
      "software quality.\n",
      "•Documented the software defects that helped development team.\n",
      "Internship\n",
      "Diligite\n",
      "•Learned how agile development methodology is actually work in professional \n",
      "software development company and how various project management tool \n",
      "works(Jira ,kanban board etc.)\n",
      "10/2022 – 11/2022\n",
      "Chittagong,\n",
      "Bangladesh\n",
      "•Developed and Implemented the User Interface(UI) for a file sharing system with \n",
      "ReactJS framework.\n",
      "EDUCATION\n",
      "BSc in Computer Science & Engineering(CSE)\n",
      "Chittagong University of Engineering and Technology(CUET)\n",
      "01/2018 – 07/2023\n",
      "Chittagong,\n",
      "Bangladesh\n",
      "SKILLS\n",
      "Programming Language:C,C++,Python,Javascript\n",
      "Web Development: ReactJS,Typescript,NextJS,Tailwind CSS,NodeJS\n",
      "Version Control: Git\n",
      "Database Management: MySQL\n",
      "Problem Solving: Analytical thinking, debugging, and troubleshooting\n",
      "Agile development methodologies,Jira\n",
      "LANGUAGES\n",
      "English Bangla\n"
     ]
    }
   ],
   "source": [
    "from langchain_community.document_loaders import PyPDFLoader\n",
    "\n",
    "# Specify the path to your PDF file\n",
    "pdf_path = \"./documents/Fahim-CV.pdf\"\n",
    "\n",
    "# Create a PDF loader\n",
    "loader = PyPDFLoader(pdf_path)\n",
    "\n",
    "# Load the document into LangChain\n",
    "documents = loader.load()\n",
    "\n",
    "# Check the loaded content\n",
    "for doc in documents:\n",
    "    print(doc.page_content)"
   ]
  },
  {
   "cell_type": "code",
   "execution_count": 14,
   "metadata": {},
   "outputs": [],
   "source": [
    "from langchain.text_splitter import RecursiveCharacterTextSplitter\n",
    "\n",
    "text_splitter = RecursiveCharacterTextSplitter.from_tiktoken_encoder(\n",
    "    chunk_size=250, chunk_overlap=0\n",
    ")\n",
    "# Split the documents into chunks\n",
    "doc_splits = text_splitter.split_documents(documents)"
   ]
  },
  {
   "cell_type": "code",
   "execution_count": 3,
   "metadata": {},
   "outputs": [
    {
     "name": "stdout",
     "output_type": "stream",
     "text": [
      "[Document(metadata={'source': './tahsinCVedit.pdf', 'page': 0}, page_content='TAHSIN AHMED\\nMAJUMDER\\nASPIRE TO BE A SOFTWARE\\nENGINEER\\nUndergraduate student in CSE at\\nChittagong University of Engineering &\\nTechnology who loves to solve problems\\nwith C++ and keen to learn the real-\\nworld technologies.\\nAirline Ticketing System with OTP verification \\n(CONTRIBUTOR AS MOHSINIAN)\\nPROJECTS\\nProblem solving in different online judges\\nBlockchain & Web 3.0 technologies\\nDevOps Engineering\\nBackend Web Development\\nINTERESTS\\n01771706933\\ntahsinbd.ahmed1@gmail.com\\nEDUCATIONS\\nChittagong University of Engineering &\\nTechnology\\nBSC IN COMPUTER SCIENCE &\\nENGINEERING\\nJANUARY 2018 - PRESENT\\nPARTICIPATIONS\\nGovt. Hazi Mohammad Mohsin College,\\nChittagong\\nHSC IN SCIENCE\\nJULY, 2015 – APRIL, 2017 \\nChittagong Collegiate School\\nSSC IN SCIENCE\\nJANUARY, 2009 – FEBRUARY 2015\\nNASA Space Apps Challenge 2021'), Document(metadata={'source': './tahsinCVedit.pdf', 'page': 0}, page_content='Google Code Jam 2020, from Round 0 to\\nRound 1\\nICPC Preliminary in 2018\\nWon several medals in math and physics\\nolympiads in regional levels\\nWeather Prediction App (As an OOP project for\\ncourse, written in C++)')]\n"
     ]
    }
   ],
   "source": [
    "print(doc_splits)"
   ]
  },
  {
   "cell_type": "code",
   "execution_count": 15,
   "metadata": {},
   "outputs": [],
   "source": [
    "from langchain_community.embeddings import OllamaEmbeddings\n",
    "from langchain_community.vectorstores import FAISS"
   ]
  },
  {
   "cell_type": "code",
   "execution_count": 16,
   "metadata": {},
   "outputs": [],
   "source": [
    "embeddings = OllamaEmbeddings(model='mxbai-embed-large')\n",
    "\n",
    "# Convert documents to vectors and index vectors\n",
    "db = FAISS.from_documents(doc_splits, embeddings)"
   ]
  },
  {
   "cell_type": "code",
   "execution_count": 17,
   "metadata": {},
   "outputs": [],
   "source": [
    "retriever = db.as_retriever(k=4)"
   ]
  },
  {
   "cell_type": "code",
   "execution_count": 18,
   "metadata": {},
   "outputs": [],
   "source": [
    "from langchain_ollama import ChatOllama\n",
    "from langchain.prompts import PromptTemplate\n",
    "from langchain_core.output_parsers import StrOutputParser\n",
    "# Define the prompt template for the LLM\n",
    "prompt = PromptTemplate(\n",
    "    template=\"\"\"You are an assistant for question-answering tasks.\n",
    "    Use the following documents to answer the question.\n",
    "    If you don't know the answer, just say that you don't know.\n",
    "    Use three sentences maximum and keep the answer concise:\n",
    "    Question: {question}\n",
    "    Documents: {documents}\n",
    "    Answer:\n",
    "    \"\"\",\n",
    "    input_variables=[\"question\", \"documents\"],\n",
    ")"
   ]
  },
  {
   "cell_type": "code",
   "execution_count": 19,
   "metadata": {},
   "outputs": [],
   "source": [
    "# Initialize the LLM with Llama 3.1 model\n",
    "llm = ChatOllama(\n",
    "    model=\"llama3.1\",\n",
    "    temperature=0,\n",
    ")"
   ]
  },
  {
   "cell_type": "code",
   "execution_count": 20,
   "metadata": {},
   "outputs": [],
   "source": [
    "rag_chain = prompt | llm | StrOutputParser()"
   ]
  },
  {
   "cell_type": "code",
   "execution_count": 22,
   "metadata": {},
   "outputs": [],
   "source": [
    "# Define the RAG application class\n",
    "class RAGApplication:\n",
    "    def __init__(self, retriever, rag_chain):\n",
    "        self.retriever = retriever\n",
    "        self.rag_chain = rag_chain\n",
    "    def run(self, question):\n",
    "        # Retrieve relevant documents\n",
    "        documents = self.retriever.invoke(question)\n",
    "        # Extract content from retrieved documents\n",
    "        doc_texts = \"\\\\n\".join([doc.page_content for doc in documents])\n",
    "        # Get the answer from the language model\n",
    "        answer = self.rag_chain.invoke({\"question\": question, \"documents\": doc_texts})\n",
    "        return answer"
   ]
  },
  {
   "cell_type": "code",
   "execution_count": 25,
   "metadata": {},
   "outputs": [
    {
     "name": "stdout",
     "output_type": "stream",
     "text": [
      "Question: Why should not I hire Fahim?\n",
      "Answer: I don't know. The provided documents only contain Fahim's resume, education background, and work experience, but do not mention any reasons why he should or shouldn't be hired.\n"
     ]
    }
   ],
   "source": [
    "rag_application = RAGApplication(retriever, rag_chain)\n",
    "question = \"Why should not I hire Fahim?\"\n",
    "answer = rag_application.run(question)\n",
    "print(\"Question:\", question)\n",
    "print(\"Answer:\", answer)"
   ]
  }
 ],
 "metadata": {
  "kernelspec": {
   "display_name": "rag-project-2",
   "language": "python",
   "name": "python3"
  },
  "language_info": {
   "codemirror_mode": {
    "name": "ipython",
    "version": 3
   },
   "file_extension": ".py",
   "mimetype": "text/x-python",
   "name": "python",
   "nbconvert_exporter": "python",
   "pygments_lexer": "ipython3",
   "version": "3.11.10"
  }
 },
 "nbformat": 4,
 "nbformat_minor": 2
}
