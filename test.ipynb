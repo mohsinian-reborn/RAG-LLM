{
 "cells": [
  {
   "cell_type": "code",
   "execution_count": 2,
   "metadata": {},
   "outputs": [
    {
     "name": "stdout",
     "output_type": "stream",
     "text": [
      "hello\n"
     ]
    }
   ],
   "source": [
    "print(\"hello\");"
   ]
  },
  {
   "cell_type": "code",
   "execution_count": 1,
   "metadata": {},
   "outputs": [
    {
     "name": "stderr",
     "output_type": "stream",
     "text": [
      "USER_AGENT environment variable not set, consider setting it to identify your requests.\n"
     ]
    },
    {
     "ename": "ModuleNotFoundError",
     "evalue": "No module named 'bs4'",
     "output_type": "error",
     "traceback": [
      "\u001b[1;31m---------------------------------------------------------------------------\u001b[0m",
      "\u001b[1;31mModuleNotFoundError\u001b[0m                       Traceback (most recent call last)",
      "Cell \u001b[1;32mIn[1], line 10\u001b[0m\n\u001b[0;32m      4\u001b[0m urls \u001b[38;5;241m=\u001b[39m [\n\u001b[0;32m      5\u001b[0m     \u001b[38;5;124m\"\u001b[39m\u001b[38;5;124m<https://lilianweng.github.io/posts/2023-06-23-agent/>\u001b[39m\u001b[38;5;124m\"\u001b[39m,\n\u001b[0;32m      6\u001b[0m     \u001b[38;5;124m\"\u001b[39m\u001b[38;5;124m<https://lilianweng.github.io/posts/2023-03-15-prompt-engineering/>\u001b[39m\u001b[38;5;124m\"\u001b[39m,\n\u001b[0;32m      7\u001b[0m     \u001b[38;5;124m\"\u001b[39m\u001b[38;5;124m<https://lilianweng.github.io/posts/2023-10-25-adv-attack-llm/>\u001b[39m\u001b[38;5;124m\"\u001b[39m,\n\u001b[0;32m      8\u001b[0m ]\n\u001b[0;32m      9\u001b[0m \u001b[38;5;66;03m# Load documents from the URLs\u001b[39;00m\n\u001b[1;32m---> 10\u001b[0m docs \u001b[38;5;241m=\u001b[39m [\u001b[43mWebBaseLoader\u001b[49m\u001b[43m(\u001b[49m\u001b[43murl\u001b[49m\u001b[43m)\u001b[49m\u001b[38;5;241;43m.\u001b[39;49m\u001b[43mload\u001b[49m\u001b[43m(\u001b[49m\u001b[43m)\u001b[49m \u001b[38;5;28;01mfor\u001b[39;00m url \u001b[38;5;129;01min\u001b[39;00m urls]\n\u001b[0;32m     11\u001b[0m docs_list \u001b[38;5;241m=\u001b[39m [item \u001b[38;5;28;01mfor\u001b[39;00m sublist \u001b[38;5;129;01min\u001b[39;00m docs \u001b[38;5;28;01mfor\u001b[39;00m item \u001b[38;5;129;01min\u001b[39;00m sublist]\n",
      "File \u001b[1;32mc:\\Users\\tahsi\\miniconda3\\Lib\\site-packages\\langchain_core\\document_loaders\\base.py:31\u001b[0m, in \u001b[0;36mBaseLoader.load\u001b[1;34m(self)\u001b[0m\n\u001b[0;32m     29\u001b[0m \u001b[38;5;28;01mdef\u001b[39;00m \u001b[38;5;21mload\u001b[39m(\u001b[38;5;28mself\u001b[39m) \u001b[38;5;241m-\u001b[39m\u001b[38;5;241m>\u001b[39m \u001b[38;5;28mlist\u001b[39m[Document]:\n\u001b[0;32m     30\u001b[0m \u001b[38;5;250m    \u001b[39m\u001b[38;5;124;03m\"\"\"Load data into Document objects.\"\"\"\u001b[39;00m\n\u001b[1;32m---> 31\u001b[0m     \u001b[38;5;28;01mreturn\u001b[39;00m \u001b[38;5;28;43mlist\u001b[39;49m\u001b[43m(\u001b[49m\u001b[38;5;28;43mself\u001b[39;49m\u001b[38;5;241;43m.\u001b[39;49m\u001b[43mlazy_load\u001b[49m\u001b[43m(\u001b[49m\u001b[43m)\u001b[49m\u001b[43m)\u001b[49m\n",
      "File \u001b[1;32mc:\\Users\\tahsi\\miniconda3\\Lib\\site-packages\\langchain_community\\document_loaders\\web_base.py:329\u001b[0m, in \u001b[0;36mWebBaseLoader.lazy_load\u001b[1;34m(self)\u001b[0m\n\u001b[0;32m    327\u001b[0m \u001b[38;5;250m\u001b[39m\u001b[38;5;124;03m\"\"\"Lazy load text from the url(s) in web_path.\"\"\"\u001b[39;00m\n\u001b[0;32m    328\u001b[0m \u001b[38;5;28;01mfor\u001b[39;00m path \u001b[38;5;129;01min\u001b[39;00m \u001b[38;5;28mself\u001b[39m\u001b[38;5;241m.\u001b[39mweb_paths:\n\u001b[1;32m--> 329\u001b[0m     soup \u001b[38;5;241m=\u001b[39m \u001b[38;5;28;43mself\u001b[39;49m\u001b[38;5;241;43m.\u001b[39;49m\u001b[43m_scrape\u001b[49m\u001b[43m(\u001b[49m\u001b[43mpath\u001b[49m\u001b[43m,\u001b[49m\u001b[43m \u001b[49m\u001b[43mbs_kwargs\u001b[49m\u001b[38;5;241;43m=\u001b[39;49m\u001b[38;5;28;43mself\u001b[39;49m\u001b[38;5;241;43m.\u001b[39;49m\u001b[43mbs_kwargs\u001b[49m\u001b[43m)\u001b[49m\n\u001b[0;32m    330\u001b[0m     text \u001b[38;5;241m=\u001b[39m soup\u001b[38;5;241m.\u001b[39mget_text(\u001b[38;5;241m*\u001b[39m\u001b[38;5;241m*\u001b[39m\u001b[38;5;28mself\u001b[39m\u001b[38;5;241m.\u001b[39mbs_get_text_kwargs)\n\u001b[0;32m    331\u001b[0m     metadata \u001b[38;5;241m=\u001b[39m _build_metadata(soup, path)\n",
      "File \u001b[1;32mc:\\Users\\tahsi\\miniconda3\\Lib\\site-packages\\langchain_community\\document_loaders\\web_base.py:298\u001b[0m, in \u001b[0;36mWebBaseLoader._scrape\u001b[1;34m(self, url, parser, bs_kwargs)\u001b[0m\n\u001b[0;32m    292\u001b[0m \u001b[38;5;28;01mdef\u001b[39;00m \u001b[38;5;21m_scrape\u001b[39m(\n\u001b[0;32m    293\u001b[0m     \u001b[38;5;28mself\u001b[39m,\n\u001b[0;32m    294\u001b[0m     url: \u001b[38;5;28mstr\u001b[39m,\n\u001b[0;32m    295\u001b[0m     parser: Union[\u001b[38;5;28mstr\u001b[39m, \u001b[38;5;28;01mNone\u001b[39;00m] \u001b[38;5;241m=\u001b[39m \u001b[38;5;28;01mNone\u001b[39;00m,\n\u001b[0;32m    296\u001b[0m     bs_kwargs: Optional[\u001b[38;5;28mdict\u001b[39m] \u001b[38;5;241m=\u001b[39m \u001b[38;5;28;01mNone\u001b[39;00m,\n\u001b[0;32m    297\u001b[0m ) \u001b[38;5;241m-\u001b[39m\u001b[38;5;241m>\u001b[39m Any:\n\u001b[1;32m--> 298\u001b[0m     \u001b[38;5;28;01mfrom\u001b[39;00m \u001b[38;5;21;01mbs4\u001b[39;00m \u001b[38;5;28;01mimport\u001b[39;00m BeautifulSoup\n\u001b[0;32m    300\u001b[0m     \u001b[38;5;28;01mif\u001b[39;00m parser \u001b[38;5;129;01mis\u001b[39;00m \u001b[38;5;28;01mNone\u001b[39;00m:\n\u001b[0;32m    301\u001b[0m         \u001b[38;5;28;01mif\u001b[39;00m url\u001b[38;5;241m.\u001b[39mendswith(\u001b[38;5;124m\"\u001b[39m\u001b[38;5;124m.xml\u001b[39m\u001b[38;5;124m\"\u001b[39m):\n",
      "\u001b[1;31mModuleNotFoundError\u001b[0m: No module named 'bs4'"
     ]
    }
   ],
   "source": [
    "from langchain_community.document_loaders import WebBaseLoader\n",
    "from langchain.text_splitter import RecursiveCharacterTextSplitter\n",
    "# List of URLs to load documents from\n",
    "urls = [\n",
    "    \"<https://lilianweng.github.io/posts/2023-06-23-agent/>\",\n",
    "    \"<https://lilianweng.github.io/posts/2023-03-15-prompt-engineering/>\",\n",
    "    \"<https://lilianweng.github.io/posts/2023-10-25-adv-attack-llm/>\",\n",
    "]\n",
    "# Load documents from the URLs\n",
    "docs = [WebBaseLoader(url).load() for url in urls]\n",
    "docs_list = [item for sublist in docs for item in sublist]"
   ]
  },
  {
   "cell_type": "code",
   "execution_count": 10,
   "metadata": {},
   "outputs": [
    {
     "name": "stdout",
     "output_type": "stream",
     "text": [
      "BANGLADESH RAILWAY\n",
      "বাংলােদশ রলওেয়\n",
      "Dear TAHSIN AHMED MAJUMDER,\n",
      "Your request to book e-ticket for your journey in Bangladesh Railway was successful. You can travel on the train mentioned in\n",
      "the ticket subject to showing your NID or Photo ID card. The details of your e-ticket are as below:\n",
      "বাংলােদশ রলওেয়েত মেণর জ আপনার চািহত ই-িটিকট সফলভােব দান করা হেয়েছ। আপনার এনআইিড িকংবা ছিব সিলত আইিড দখােনা সােপে\n",
      "আপিন িটিকেট বিণত েন যাা করেত পারেবন। ই-িটিকেটর িবািরত িনে দয়া হল:-\n",
      "Journey Information (যাার তথ)\n",
      "Issue Date & Time (দােনর তািরখ ও সময়) 25-10-2024 11:59 (২৫-১০-২০২৪ ১১:৫৯)\n",
      "Journey Date & Time (যাার তািরখ ও সময়) 26-10-2024 18:38 (২৬-১০-২০২৪ ১৮:৩৮)\n",
      "Train Name & Number (ন নর ও নাম) CHATTALA EXPRESS [802] (চলা এেস [৮০২])\n",
      "From Station (ারিক শন) Feni (ফনী)\n",
      "To Station (গব শন) Chattogram (চাম)\n",
      "Class Name (িণর নাম) SNIGDHA (িা)\n",
      "Coach Name / Seat(s) (কােচর নাম / আসন) UMA-47, UMA-46  (ঙ-৪৭, ঙ-৪৬)\n",
      "No. of Seats (আসন সংখা) 2 (২)\n",
      "No. of Adult Passenger(s) (াবয় যাীর সংখা) 2 (২)\n",
      "No. of Child Passenger(s) (িশ যাীর সংখা) 0 (০)\n",
      "Fare (ভাড়া) BDT 360.00 (৩৬০.০০ টাকা)\n",
      "VAT (ভাট) BDT 54.00 (৫৪.০০ টাকা)\n",
      "Service Charge (সবা খরচ) BDT 40.00 (৪০.০০ টাকা)\n",
      "Total Fare (মাট ভাড়া)** BDT 454.00 (৪৫৪.০০ টাকা)\n",
      "** Total Fare includes BDT 50 Bedding Charges per seat for AC_B and F_BERTH seat classes. (এিস_িব এবং এফ_বাথ িসট ােসর িত িসেট মাট ভাড়ার সােথ ৳৫০ বিডং চাজ অভু)\n",
      "Passenger Information (যাীর তথ)\n",
      "Passenger Name (যাীর নাম) TAHSIN AHMED MAJUMDER\n",
      "Identification Type (পিরচয়প ধরণ) NID (এন আই িড)\n",
      "Identification Number (পিরচয়প নর) 6005132656 (৬০০৫১৩২৬৫৬)\n",
      "Mobile Number (মাবাইল নর) 01771706933 (০১৭৭১৭০৬৯৩৩)\n",
      "PNR Number (িপএনআর নর) 671B33CC53F78\n",
      "Co Passenger 1 (সহযাী ১) NASIM ARA BEGUM\n",
      "Please Note:-\n",
      "• Carrying NID or Photo ID while travelling is mandatory for each\n",
      "passenger.\n",
      "• You can carry either soft copy or printed copy of your e-ticket while\n",
      "travelling.\n",
      "• No need to print e-ticket from the counter.\n",
      "খয়াল কনঃ-\n",
      "- মেণর সময় েতক যাীর এনআইিড/ ছিব সিলত পিরচয়প সােথ রাখা\n",
      "বাধতামূলক।\n",
      "- ন মেণ আপনার ই-িটেকেটর িেটড কিপ অথবা অনলাইন কিপ সােথ রাখুন।\n",
      "- কাউটার থেক িটেকট িট করার েয়াজন নই।\n",
      "Wishing you a pleasant and safe journey-\n",
      "Bangladesh Railway\n",
      "আপনার মণ খকর ও িনরাপদ হাক, এই কামনায়-\n",
      "বাংলােদশ রলওেয়\n"
     ]
    }
   ],
   "source": [
    "from langchain_community.document_loaders import PyPDFLoader\n",
    "\n",
    "# Specify the path to your PDF file\n",
    "pdf_path = \"./test.pdf\"\n",
    "\n",
    "# Create a PDF loader\n",
    "loader = PyPDFLoader(pdf_path)\n",
    "\n",
    "# Load the document into LangChain\n",
    "documents = loader.load()\n",
    "\n",
    "# Check the loaded content\n",
    "for doc in documents:\n",
    "    print(doc.page_content)"
   ]
  },
  {
   "cell_type": "code",
   "execution_count": 12,
   "metadata": {},
   "outputs": [],
   "source": [
    "from langchain.text_splitter import RecursiveCharacterTextSplitter\n",
    "\n",
    "text_splitter = RecursiveCharacterTextSplitter.from_tiktoken_encoder(\n",
    "    chunk_size=250, chunk_overlap=0\n",
    ")\n",
    "# Split the documents into chunks\n",
    "doc_splits = text_splitter.split_documents(documents)"
   ]
  },
  {
   "cell_type": "code",
   "execution_count": 13,
   "metadata": {},
   "outputs": [
    {
     "name": "stdout",
     "output_type": "stream",
     "text": [
      "[Document(metadata={'source': './test.pdf', 'page': 0}, page_content='BANGLADESH RAILWAY\\nবাংলােদশ \\ue04eরলওেয়\\nDear TAHSIN AHMED MAJUMDER,\\nYour request to book e-ticket for your journey in Bangladesh Railway was successful. You can travel on the train mentioned in\\nthe ticket subject to showing your NID or Photo ID card. The details of your e-ticket are as below:'), Document(metadata={'source': './test.pdf', 'page': 0}, page_content='বাংলােদশ \\ue04eরলওেয়েত \\ue0bfমেণর জ\\ue0ae আপনার চািহত ই-িটিকট সফলভােব \\ue0b3দান করা হেয়েছ। আপনার এনআইিড িকংবা ছিব স\\ue0c3িলত আইিড \\ue04eদখােনা সােপে\\ue058'), Document(metadata={'source': './test.pdf', 'page': 0}, page_content='আপিন িটিকেট বিণ\\ue04dত \\ue04e\\ue07fেন যা\\ue093া করেত পারেবন। ই-িটিকেটর িব\\ue0e8ািরত িনে\\ue0c0 \\ue04eদয়া হল:-\\nJourney Information (যা\\ue093ার তথ\\ue04a)'), Document(metadata={'source': './test.pdf', 'page': 0}, page_content='Issue Date & Time (\\ue0b3দােনর তািরখ ও সময়) 25-10-2024 11:59 (২৫-১০-২০২৪ ১১:৫৯)\\nJourney Date & Time (যা\\ue093ার তািরখ ও সময়) 26-10-2024 18:38 (২৬-১০-২০২৪ ১৮:৩৮)'), Document(metadata={'source': './test.pdf', 'page': 0}, page_content='Train Name & Number (\\ue04e\\ue07fন ন\\ue0c3র ও নাম) CHATTALA EXPRESS [802] (চ\\ue07eলা এ\\ue053ে\\ue0b3স [৮০২])\\nFrom Station (\\ue0b3ারি\\ue0c4ক \\ue04e\\ue0e7শন) Feni (\\ue04eফনী)\\nTo Station (গ\\ue0a1ব\\ue04a \\ue04e\\ue0e7শন) Chattogram (চ\\ue07e\\ue064াম)\\nClass Name (\\ue04e\\ue0d7িণর নাম) SNIGDHA (ি\\ue0ea\\ue05fা)'), Document(metadata={'source': './test.pdf', 'page': 0}, page_content='Coach Name / Seat(s) (\\ue04eকােচর নাম / আসন) UMA-47, UMA-46  (ঙ-৪৭, ঙ-৪৬)\\nNo. of Seats (আসন সংখ\\ue04aা) 2 (২)\\nNo. of Adult Passenger(s) (\\ue0b3া\\ue0afবয়\\ue0e5 যা\\ue093ীর সংখ\\ue04aা) 2 (২)\\nNo. of Child Passenger(s) (িশ\\ue103 যা\\ue093ীর সংখ\\ue04aা) 0 (০)'), Document(metadata={'source': './test.pdf', 'page': 0}, page_content='Fare (ভাড়া) BDT 360.00 (৩৬০.০০ টাকা)\\nVAT (ভ\\ue04aাট) BDT 54.00 (৫৪.০০ টাকা)\\nService Charge (\\ue04eসবা খরচ) BDT 40.00 (৪০.০০ টাকা)\\nTotal Fare (\\ue04eমাট ভাড়া)** BDT 454.00 (৪৫৪.০০ টাকা)'), Document(metadata={'source': './test.pdf', 'page': 0}, page_content='** Total Fare includes BDT 50 Bedding Charges per seat for AC_B and F_BERTH seat classes. (এিস_িব এবং এফ_বাথ\\ue04d িসট \\ue055ােসর \\ue0b3িত িসেট \\ue04eমাট ভাড়ার সােথ ৳৫০ \\ue04eবিডং চাজ\\ue04d অ\\ue0a1ভু\\ue04d\\ue056)\\nPassenger Information (যা\\ue093ীর তথ\\ue04a)\\nPassenger Name (যা\\ue093ীর নাম) TAHSIN AHMED MAJUMDER'), Document(metadata={'source': './test.pdf', 'page': 0}, page_content='Identification Type (পিরচয়প\\ue093 ধরণ) NID (এন আই িড)\\nIdentification Number (পিরচয়প\\ue093 ন\\ue0c3র) 6005132656 (৬০০৫১৩২৬৫৬)\\nMobile Number (\\ue04eমাবাইল ন\\ue0c3র) 01771706933 (০১৭৭১৭০৬৯৩৩)\\nPNR Number (িপএনআর ন\\ue0c3র) 671B33CC53F78\\nCo Passenger 1 (সহযা\\ue093ী ১) NASIM ARA BEGUM'), Document(metadata={'source': './test.pdf', 'page': 0}, page_content='Please Note:-\\n• Carrying NID or Photo ID while travelling is mandatory for each\\npassenger.\\n• You can carry either soft copy or printed copy of your e-ticket while\\ntravelling.\\n• No need to print e-ticket from the counter.\\n\\ue04eখয়াল ক\\ue100নঃ-\\n- \\ue0bfমেণর সময় \\ue0b3েত\\ue04aক যা\\ue093ীর এনআইিড/ ছিব স\\ue0c3িলত পিরচয়প\\ue093 সােথ রাখা\\nবাধ\\ue04aতামূলক।'), Document(metadata={'source': './test.pdf', 'page': 0}, page_content='- \\ue04e\\ue07fন \\ue0bfমেণ আপনার ই-িটেকেটর ি\\ue0b3ে\\ue013টড কিপ অথবা অনলাইন কিপ সােথ রাখুন।\\n- কাউ\\ue013টার \\ue04eথেক িটেকট ি\\ue0b3\\ue013ট করার \\ue0b3েয়াজন \\ue04eনই।\\nWishing you a pleasant and safe journey-\\nBangladesh Railway'), Document(metadata={'source': './test.pdf', 'page': 0}, page_content='আপনার \\ue0bfমণ \\ue0ffখকর ও িনরাপদ \\ue04eহাক, এই কামনায়-\\nবাংলােদশ \\ue04eরলওেয়')]\n"
     ]
    }
   ],
   "source": [
    "print(doc_splits)"
   ]
  },
  {
   "cell_type": "code",
   "execution_count": 18,
   "metadata": {},
   "outputs": [],
   "source": [
    "from langchain_community.embeddings import OllamaEmbeddings\n",
    "from langchain_community.vectorstores import FAISS"
   ]
  },
  {
   "cell_type": "code",
   "execution_count": 21,
   "metadata": {},
   "outputs": [],
   "source": [
    "embeddings = OllamaEmbeddings(model='mxbai-embed-large')\n",
    "\n",
    "# Convert documents to vectors and index vectors\n",
    "db = FAISS.from_documents(doc_splits, embeddings)"
   ]
  },
  {
   "cell_type": "code",
   "execution_count": 22,
   "metadata": {},
   "outputs": [],
   "source": [
    "retriever = db.as_retriever(k=4)"
   ]
  },
  {
   "cell_type": "code",
   "execution_count": 23,
   "metadata": {},
   "outputs": [],
   "source": [
    "from langchain_ollama import ChatOllama\n",
    "from langchain.prompts import PromptTemplate\n",
    "from langchain_core.output_parsers import StrOutputParser\n",
    "# Define the prompt template for the LLM\n",
    "prompt = PromptTemplate(\n",
    "    template=\"\"\"You are an assistant for question-answering tasks.\n",
    "    Use the following documents to answer the question.\n",
    "    If you don't know the answer, just say that you don't know.\n",
    "    Use three sentences maximum and keep the answer concise:\n",
    "    Question: {question}\n",
    "    Documents: {documents}\n",
    "    Answer:\n",
    "    \"\"\",\n",
    "    input_variables=[\"question\", \"documents\"],\n",
    ")"
   ]
  },
  {
   "cell_type": "code",
   "execution_count": 24,
   "metadata": {},
   "outputs": [],
   "source": [
    "# Initialize the LLM with Llama 3.1 model\n",
    "llm = ChatOllama(\n",
    "    model=\"llama3.1\",\n",
    "    temperature=0,\n",
    ")"
   ]
  },
  {
   "cell_type": "code",
   "execution_count": 25,
   "metadata": {},
   "outputs": [],
   "source": [
    "rag_chain = prompt | llm | StrOutputParser()"
   ]
  },
  {
   "cell_type": "code",
   "execution_count": 26,
   "metadata": {},
   "outputs": [],
   "source": [
    "# Define the RAG application class\n",
    "class RAGApplication:\n",
    "    def __init__(self, retriever, rag_chain):\n",
    "        self.retriever = retriever\n",
    "        self.rag_chain = rag_chain\n",
    "    def run(self, question):\n",
    "        # Retrieve relevant documents\n",
    "        documents = self.retriever.invoke(question)\n",
    "        # Extract content from retrieved documents\n",
    "        doc_texts = \"\\\\n\".join([doc.page_content for doc in documents])\n",
    "        # Get the answer from the language model\n",
    "        answer = self.rag_chain.invoke({\"question\": question, \"documents\": doc_texts})\n",
    "        return answer"
   ]
  },
  {
   "cell_type": "code",
   "execution_count": null,
   "metadata": {},
   "outputs": [
    {
     "name": "stdout",
     "output_type": "stream",
     "text": [
      "Question: What is the fare\n",
      "Answer: The fare is BDT 360.00 (৩৬০.০০ টাকা). Additionally, there are VAT and Service Charge of BDT 54.00 and BDT 40.00 respectively. The total fare comes out to be BDT 454.00 (৪৫৪.০০ টাকা).\n"
     ]
    }
   ],
   "source": [
    "rag_application = RAGApplication(retriever, rag_chain)\n",
    "question = \"What is the fare\"\n",
    "answer = rag_application.run(question)\n",
    "print(\"Question:\", question)\n",
    "print(\"Answer:\", answer)"
   ]
  }
 ],
 "metadata": {
  "kernelspec": {
   "display_name": "rag-project-2",
   "language": "python",
   "name": "python3"
  },
  "language_info": {
   "codemirror_mode": {
    "name": "ipython",
    "version": 3
   },
   "file_extension": ".py",
   "mimetype": "text/x-python",
   "name": "python",
   "nbconvert_exporter": "python",
   "pygments_lexer": "ipython3",
   "version": "3.11.10"
  }
 },
 "nbformat": 4,
 "nbformat_minor": 2
}
